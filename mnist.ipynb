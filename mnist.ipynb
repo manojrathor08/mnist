{
 "cells": [
  {
   "cell_type": "code",
   "execution_count": 70,
   "metadata": {},
   "outputs": [],
   "source": [
    "# import some libraries"
   ]
  },
  {
   "cell_type": "markdown",
   "metadata": {},
   "source": [
    "# loading libraries"
   ]
  },
  {
   "cell_type": "code",
   "execution_count": 1,
   "metadata": {},
   "outputs": [],
   "source": [
    "import os\n",
    "import numpy as np\n",
    "import pandas as pd\n",
    "import tensorflow as tf\n",
    "from tensorflow import keras\n",
    "from tensorflow.keras.models import load_model"
   ]
  },
  {
   "cell_type": "code",
   "execution_count": 2,
   "metadata": {},
   "outputs": [],
   "source": [
    "from numpy.random import seed\n",
    "seed(1)\n",
    "tf.random.set_seed(1)"
   ]
  },
  {
   "cell_type": "code",
   "execution_count": 3,
   "metadata": {},
   "outputs": [],
   "source": [
    "#!pip3 install -U scikit-learn\n",
    "import sklearn\n",
    "from sklearn import model_selection"
   ]
  },
  {
   "cell_type": "markdown",
   "metadata": {},
   "source": [
    "# load data"
   ]
  },
  {
   "cell_type": "code",
   "execution_count": 4,
   "metadata": {},
   "outputs": [
    {
     "name": "stdout",
     "output_type": "stream",
     "text": [
      "Untitled.html  Untitled.ipynb  sample_submission.csv  test.csv\ttrain.csv\n"
     ]
    }
   ],
   "source": [
    "!ls data/"
   ]
  },
  {
   "cell_type": "code",
   "execution_count": 5,
   "metadata": {},
   "outputs": [],
   "source": [
    "train = pd.read_csv('data/train.csv')\n",
    "test=pd.read_csv('data/test.csv')\n",
    "sample_submission =pd.read_csv('data/sample_submission.csv')"
   ]
  },
  {
   "cell_type": "code",
   "execution_count": 6,
   "metadata": {},
   "outputs": [
    {
     "name": "stdout",
     "output_type": "stream",
     "text": [
      "<class 'pandas.core.frame.DataFrame'>\n",
      "RangeIndex: 28000 entries, 0 to 27999\n",
      "Data columns (total 2 columns):\n",
      " #   Column   Non-Null Count  Dtype\n",
      "---  ------   --------------  -----\n",
      " 0   ImageId  28000 non-null  int64\n",
      " 1   Label    28000 non-null  int64\n",
      "dtypes: int64(2)\n",
      "memory usage: 437.6 KB\n"
     ]
    }
   ],
   "source": [
    "sample_submission.info()"
   ]
  },
  {
   "cell_type": "code",
   "execution_count": 7,
   "metadata": {},
   "outputs": [],
   "source": [
    "sample_submission.reset_index(drop=True,inplace=True)"
   ]
  },
  {
   "cell_type": "code",
   "execution_count": 8,
   "metadata": {},
   "outputs": [
    {
     "name": "stdout",
     "output_type": "stream",
     "text": [
      "<class 'pandas.core.frame.DataFrame'>\n",
      "RangeIndex: 28000 entries, 0 to 27999\n",
      "Data columns (total 2 columns):\n",
      " #   Column   Non-Null Count  Dtype\n",
      "---  ------   --------------  -----\n",
      " 0   ImageId  28000 non-null  int64\n",
      " 1   Label    28000 non-null  int64\n",
      "dtypes: int64(2)\n",
      "memory usage: 437.6 KB\n"
     ]
    }
   ],
   "source": [
    "sample_submission.info()"
   ]
  },
  {
   "cell_type": "code",
   "execution_count": 9,
   "metadata": {},
   "outputs": [],
   "source": [
    "#train.head()"
   ]
  },
  {
   "cell_type": "code",
   "execution_count": 10,
   "metadata": {},
   "outputs": [
    {
     "data": {
      "text/html": [
       "<div>\n",
       "<style scoped>\n",
       "    .dataframe tbody tr th:only-of-type {\n",
       "        vertical-align: middle;\n",
       "    }\n",
       "\n",
       "    .dataframe tbody tr th {\n",
       "        vertical-align: top;\n",
       "    }\n",
       "\n",
       "    .dataframe thead th {\n",
       "        text-align: right;\n",
       "    }\n",
       "</style>\n",
       "<table border=\"1\" class=\"dataframe\">\n",
       "  <thead>\n",
       "    <tr style=\"text-align: right;\">\n",
       "      <th></th>\n",
       "      <th>ImageId</th>\n",
       "      <th>Label</th>\n",
       "    </tr>\n",
       "  </thead>\n",
       "  <tbody>\n",
       "    <tr>\n",
       "      <th>0</th>\n",
       "      <td>1</td>\n",
       "      <td>0</td>\n",
       "    </tr>\n",
       "    <tr>\n",
       "      <th>1</th>\n",
       "      <td>2</td>\n",
       "      <td>0</td>\n",
       "    </tr>\n",
       "    <tr>\n",
       "      <th>2</th>\n",
       "      <td>3</td>\n",
       "      <td>0</td>\n",
       "    </tr>\n",
       "    <tr>\n",
       "      <th>3</th>\n",
       "      <td>4</td>\n",
       "      <td>0</td>\n",
       "    </tr>\n",
       "    <tr>\n",
       "      <th>4</th>\n",
       "      <td>5</td>\n",
       "      <td>0</td>\n",
       "    </tr>\n",
       "  </tbody>\n",
       "</table>\n",
       "</div>"
      ],
      "text/plain": [
       "   ImageId  Label\n",
       "0        1      0\n",
       "1        2      0\n",
       "2        3      0\n",
       "3        4      0\n",
       "4        5      0"
      ]
     },
     "execution_count": 10,
     "metadata": {},
     "output_type": "execute_result"
    }
   ],
   "source": [
    "sample_submission.head()"
   ]
  },
  {
   "cell_type": "code",
   "execution_count": 11,
   "metadata": {},
   "outputs": [],
   "source": [
    "train_data = train.iloc[:,1:].values\n",
    "train_label= train.iloc[:,:1].values\n",
    "test_data = test.iloc[:,:].values"
   ]
  },
  {
   "cell_type": "code",
   "execution_count": 12,
   "metadata": {},
   "outputs": [],
   "source": [
    "train_data_shape = train_data.shape"
   ]
  },
  {
   "cell_type": "code",
   "execution_count": 13,
   "metadata": {},
   "outputs": [
    {
     "data": {
      "text/plain": [
       "42000"
      ]
     },
     "execution_count": 13,
     "metadata": {},
     "output_type": "execute_result"
    }
   ],
   "source": [
    "len(train_data)"
   ]
  },
  {
   "cell_type": "code",
   "execution_count": 14,
   "metadata": {},
   "outputs": [],
   "source": [
    "train_data =train_data.reshape(len(train_data),28,28,1)\n",
    "test_data =test_data.reshape(len(test_data),28,28,1)\n",
    "train_label = keras.utils.to_categorical(train_label,10)"
   ]
  },
  {
   "cell_type": "code",
   "execution_count": 15,
   "metadata": {},
   "outputs": [
    {
     "data": {
      "text/plain": [
       "((42000, 28, 28, 1), (42000, 10), (28000, 28, 28, 1))"
      ]
     },
     "execution_count": 15,
     "metadata": {},
     "output_type": "execute_result"
    }
   ],
   "source": [
    "train_data.shape,train_label.shape,test_data.shape"
   ]
  },
  {
   "cell_type": "code",
   "execution_count": 16,
   "metadata": {},
   "outputs": [],
   "source": [
    "x_train,x_valid,y_train,y_valid=model_selection.train_test_split(train_data,train_label,test_size=0.2,random_state=42)"
   ]
  },
  {
   "cell_type": "code",
   "execution_count": 13,
   "metadata": {},
   "outputs": [],
   "source": [
    "#x_train.shape,x_valid.shape,y_train.shape,y_valid.shape"
   ]
  },
  {
   "cell_type": "markdown",
   "metadata": {},
   "source": [
    "# model"
   ]
  },
  {
   "cell_type": "markdown",
   "metadata": {},
   "source": [
    "## simple MLP"
   ]
  },
  {
   "cell_type": "code",
   "execution_count": 107,
   "metadata": {},
   "outputs": [],
   "source": [
    "input1 = keras.layers.Input(shape=(28,28,1))\n",
    "x = keras.layers.Flatten()(input1)\n",
    "#x = keras.layers.BatchNormalization()(x)\n",
    "x = keras.layers.Dense(64,activation='relu')(x)\n",
    "x= keras.layers.Dropout(0.3)(x)\n",
    "x= keras.layers.Dense(32,activation='relu')(x)\n",
    "x = keras.layers.Dropout(.1)(x)\n",
    "output1= keras.layers.Dense(10,activation='softmax')(x)\n",
    "mlp_model= keras.models.Model(inputs= input1,outputs=output1)"
   ]
  },
  {
   "cell_type": "code",
   "execution_count": 108,
   "metadata": {},
   "outputs": [
    {
     "name": "stdout",
     "output_type": "stream",
     "text": [
      "Model: \"model_14\"\n",
      "_________________________________________________________________\n",
      "Layer (type)                 Output Shape              Param #   \n",
      "=================================================================\n",
      "input_33 (InputLayer)        [(None, 28, 28, 1)]       0         \n",
      "_________________________________________________________________\n",
      "flatten_17 (Flatten)         (None, 784)               0         \n",
      "_________________________________________________________________\n",
      "dense_38 (Dense)             (None, 64)                50240     \n",
      "_________________________________________________________________\n",
      "dropout_9 (Dropout)          (None, 64)                0         \n",
      "_________________________________________________________________\n",
      "dense_39 (Dense)             (None, 32)                2080      \n",
      "_________________________________________________________________\n",
      "dropout_10 (Dropout)         (None, 32)                0         \n",
      "_________________________________________________________________\n",
      "dense_40 (Dense)             (None, 10)                330       \n",
      "=================================================================\n",
      "Total params: 52,650\n",
      "Trainable params: 52,650\n",
      "Non-trainable params: 0\n",
      "_________________________________________________________________\n"
     ]
    }
   ],
   "source": [
    "mlp_model.summary()"
   ]
  },
  {
   "cell_type": "code",
   "execution_count": 109,
   "metadata": {},
   "outputs": [],
   "source": [
    "train_datagen= keras.preprocessing.image.ImageDataGenerator(rescale=1./255.)\n",
    "train_generator = train_datagen.flow(train_data,train_label,batch_size=32)\n",
    "valid_datagen= keras.preprocessing.image.ImageDataGenerator(rescale=1./255.)\n",
    "valid_generator = train_datagen.flow(x_valid,y_valid,batch_size=32)"
   ]
  },
  {
   "cell_type": "code",
   "execution_count": 110,
   "metadata": {},
   "outputs": [
    {
     "name": "stdout",
     "output_type": "stream",
     "text": [
      "Train for 1313 steps, validate for 263 steps\n",
      "Epoch 1/2\n",
      "1313/1313 [==============================] - 10s 8ms/step - loss: 0.5162 - accuracy: 0.8398 - val_loss: 0.2254 - val_accuracy: 0.9335\n",
      "Epoch 2/2\n",
      "1313/1313 [==============================] - 9s 7ms/step - loss: 0.3752 - accuracy: 0.8896 - val_loss: 0.1969 - val_accuracy: 0.9381\n"
     ]
    },
    {
     "data": {
      "text/plain": [
       "<tensorflow.python.keras.callbacks.History at 0x7f20e35bd400>"
      ]
     },
     "execution_count": 110,
     "metadata": {},
     "output_type": "execute_result"
    }
   ],
   "source": [
    "loss= keras.losses.CategoricalCrossentropy()\n",
    "optimizer=keras.optimizers.Adam(learning_rate=.01)\n",
    "mlp_model.compile(loss=loss,optimizer=optimizer,metrics=['accuracy'])\n",
    "mlp_model.fit(train_generator,epochs=2,validation_data=valid_generator)"
   ]
  },
  {
   "cell_type": "code",
   "execution_count": 111,
   "metadata": {},
   "outputs": [
    {
     "name": "stdout",
     "output_type": "stream",
     "text": [
      "Train for 1313 steps, validate for 263 steps\n",
      "Epoch 1/5\n",
      "1313/1313 [==============================] - 10s 8ms/step - loss: 0.2616 - accuracy: 0.9223 - val_loss: 0.1361 - val_accuracy: 0.9611\n",
      "Epoch 2/5\n",
      "1313/1313 [==============================] - 9s 7ms/step - loss: 0.2335 - accuracy: 0.9302 - val_loss: 0.1215 - val_accuracy: 0.9638\n",
      "Epoch 3/5\n",
      "1313/1313 [==============================] - 9s 7ms/step - loss: 0.2208 - accuracy: 0.9343 - val_loss: 0.1154 - val_accuracy: 0.9651\n",
      "Epoch 4/5\n",
      "1313/1313 [==============================] - 10s 7ms/step - loss: 0.2085 - accuracy: 0.9379 - val_loss: 0.1143 - val_accuracy: 0.9656\n",
      "Epoch 5/5\n",
      "1313/1313 [==============================] - 9s 7ms/step - loss: 0.2027 - accuracy: 0.9390 - val_loss: 0.1029 - val_accuracy: 0.9692\n"
     ]
    },
    {
     "data": {
      "text/plain": [
       "<tensorflow.python.keras.callbacks.History at 0x7f20e3011390>"
      ]
     },
     "execution_count": 111,
     "metadata": {},
     "output_type": "execute_result"
    }
   ],
   "source": [
    "loss= keras.losses.CategoricalCrossentropy()\n",
    "optimizer=keras.optimizers.Adam(learning_rate=.001)\n",
    "mlp_model.compile(loss=loss,optimizer=optimizer,metrics=['accuracy'])\n",
    "mlp_model.fit(train_generator,epochs=5,validation_data=valid_generator)"
   ]
  },
  {
   "cell_type": "code",
   "execution_count": 112,
   "metadata": {},
   "outputs": [
    {
     "name": "stdout",
     "output_type": "stream",
     "text": [
      "Train for 1313 steps, validate for 263 steps\n",
      "Epoch 1/5\n",
      "1313/1313 [==============================] - 11s 8ms/step - loss: 0.1872 - accuracy: 0.9434 - val_loss: 0.0993 - val_accuracy: 0.9698\n",
      "Epoch 2/5\n",
      "1313/1313 [==============================] - 10s 7ms/step - loss: 0.1910 - accuracy: 0.9416 - val_loss: 0.0989 - val_accuracy: 0.9707\n",
      "Epoch 3/5\n",
      "1313/1313 [==============================] - 10s 7ms/step - loss: 0.1883 - accuracy: 0.9430 - val_loss: 0.0976 - val_accuracy: 0.9706\n",
      "Epoch 4/5\n",
      "1313/1313 [==============================] - 9s 7ms/step - loss: 0.1849 - accuracy: 0.9439 - val_loss: 0.0972 - val_accuracy: 0.9711\n",
      "Epoch 5/5\n",
      "1313/1313 [==============================] - 9s 7ms/step - loss: 0.1872 - accuracy: 0.9429 - val_loss: 0.0963 - val_accuracy: 0.9706\n"
     ]
    },
    {
     "data": {
      "text/plain": [
       "<tensorflow.python.keras.callbacks.History at 0x7f20e318a710>"
      ]
     },
     "execution_count": 112,
     "metadata": {},
     "output_type": "execute_result"
    }
   ],
   "source": [
    "loss= keras.losses.CategoricalCrossentropy()\n",
    "optimizer=keras.optimizers.Adam(learning_rate=.0001)\n",
    "mlp_model.compile(loss=loss,optimizer=optimizer,metrics=['accuracy'])\n",
    "mlp_model.fit(train_generator,epochs=5,validation_data=valid_generator)"
   ]
  },
  {
   "cell_type": "code",
   "execution_count": 113,
   "metadata": {},
   "outputs": [
    {
     "name": "stdout",
     "output_type": "stream",
     "text": [
      "Train for 1313 steps, validate for 263 steps\n",
      "Epoch 1/5\n",
      "1313/1313 [==============================] - 10s 8ms/step - loss: 0.1854 - accuracy: 0.9424 - val_loss: 0.0961 - val_accuracy: 0.9702\n",
      "Epoch 2/5\n",
      "1313/1313 [==============================] - 10s 8ms/step - loss: 0.1838 - accuracy: 0.9434 - val_loss: 0.0961 - val_accuracy: 0.9701\n",
      "Epoch 3/5\n",
      "1313/1313 [==============================] - 10s 7ms/step - loss: 0.1843 - accuracy: 0.9423 - val_loss: 0.0959 - val_accuracy: 0.9702\n",
      "Epoch 4/5\n",
      "1313/1313 [==============================] - 10s 7ms/step - loss: 0.1844 - accuracy: 0.9432 - val_loss: 0.0958 - val_accuracy: 0.9702\n",
      "Epoch 5/5\n",
      "1313/1313 [==============================] - 9s 7ms/step - loss: 0.1821 - accuracy: 0.9444 - val_loss: 0.0958 - val_accuracy: 0.9702\n"
     ]
    },
    {
     "data": {
      "text/plain": [
       "<tensorflow.python.keras.callbacks.History at 0x7f1feb57c978>"
      ]
     },
     "execution_count": 113,
     "metadata": {},
     "output_type": "execute_result"
    }
   ],
   "source": [
    "loss= keras.losses.CategoricalCrossentropy()\n",
    "optimizer=keras.optimizers.Adam(learning_rate=.00001)\n",
    "mlp_model.compile(loss=loss,optimizer=optimizer,metrics=['accuracy'])\n",
    "mlp_model.fit(train_generator,epochs=5,validation_data=valid_generator)"
   ]
  },
  {
   "cell_type": "code",
   "execution_count": 114,
   "metadata": {},
   "outputs": [
    {
     "name": "stdout",
     "output_type": "stream",
     "text": [
      "Train for 1313 steps, validate for 263 steps\n",
      "Epoch 1/5\n",
      "1313/1313 [==============================] - 10s 8ms/step - loss: 0.1837 - accuracy: 0.9445 - val_loss: 0.0957 - val_accuracy: 0.9702\n",
      "Epoch 2/5\n",
      "1313/1313 [==============================] - 9s 7ms/step - loss: 0.1836 - accuracy: 0.9440 - val_loss: 0.0957 - val_accuracy: 0.9702\n",
      "Epoch 3/5\n",
      "1313/1313 [==============================] - 9s 7ms/step - loss: 0.1827 - accuracy: 0.9430 - val_loss: 0.0957 - val_accuracy: 0.9702\n",
      "Epoch 4/5\n",
      "1313/1313 [==============================] - 9s 7ms/step - loss: 0.1823 - accuracy: 0.9442 - val_loss: 0.0957 - val_accuracy: 0.9702\n",
      "Epoch 5/5\n",
      "1313/1313 [==============================] - 9s 7ms/step - loss: 0.1864 - accuracy: 0.9438 - val_loss: 0.0957 - val_accuracy: 0.9702\n"
     ]
    },
    {
     "data": {
      "text/plain": [
       "<tensorflow.python.keras.callbacks.History at 0x7f1feb583cf8>"
      ]
     },
     "execution_count": 114,
     "metadata": {},
     "output_type": "execute_result"
    }
   ],
   "source": [
    "loss= keras.losses.CategoricalCrossentropy()\n",
    "optimizer=keras.optimizers.Adam(learning_rate=.000001)\n",
    "mlp_model.compile(loss=loss,optimizer=optimizer,metrics=['accuracy'])\n",
    "mlp_model.fit(train_generator,epochs=5,validation_data=valid_generator)"
   ]
  },
  {
   "cell_type": "markdown",
   "metadata": {},
   "source": [
    "## convolutional neural network"
   ]
  },
  {
   "cell_type": "code",
   "execution_count": 14,
   "metadata": {},
   "outputs": [
    {
     "data": {
      "text/plain": [
       "'2.2.4-tf'"
      ]
     },
     "execution_count": 14,
     "metadata": {},
     "output_type": "execute_result"
    }
   ],
   "source": [
    "keras.__version__"
   ]
  },
  {
   "cell_type": "code",
   "execution_count": 64,
   "metadata": {},
   "outputs": [],
   "source": [
    "def model():\n",
    "    input1= keras.layers.Input(shape=(28,28,1,))\n",
    "    x = keras.layers.BatchNormalization()(input1)\n",
    "    x= keras.layers.Conv2D(filters=32,kernel_size=(3,3),strides=1,padding='same')(x)\n",
    "    x= keras.layers.Conv2D(filters=32,kernel_size=(3,3),strides=1,padding='same')(x)\n",
    "    x = keras.layers.MaxPool2D(pool_size=2)(x)\n",
    "    x = keras.layers.BatchNormalization()(x)\n",
    "    x= keras.layers.Conv2D(filters=64,kernel_size=(3,3),strides=1,padding='same')(x)\n",
    "    x= keras.layers.Conv2D(filters=64,kernel_size=(3,3),strides=1,padding='same')(x)\n",
    "    x = keras.layers.MaxPool2D(pool_size=2)(x)\n",
    "    x = keras.layers.BatchNormalization()(x)\n",
    "    x= keras.layers.Conv2D(filters=128,kernel_size=(3,3),strides=1,padding='same')(x)\n",
    "    x= keras.layers.Conv2D(filters=128,kernel_size=(3,3),strides=1,padding='same')(x)\n",
    "    x = keras.layers.MaxPool2D(pool_size=2)(x)\n",
    "    x = keras.layers.BatchNormalization()(x)\n",
    "    x= keras.layers.Flatten()(x)\n",
    "    x = keras.layers.Dropout(0.5)(x)\n",
    "    x= keras.layers.Dense(64,activation='relu')(x)\n",
    "    x = keras.layers.BatchNormalization()(x)\n",
    "    x = keras.layers.Dropout(0.5)(x)\n",
    "    x= keras.layers.Dense(64,activation='relu')(x)\n",
    "    x = keras.layers.BatchNormalization()(x)\n",
    "    x = keras.layers.Dropout(0.2)(x)\n",
    "    output1= keras.layers.Dense(10,activation='softmax')(x)\n",
    "    conv_model= keras.models.Model(inputs=input1,outputs=output1)\n",
    "    return conv_model"
   ]
  },
  {
   "cell_type": "code",
   "execution_count": 65,
   "metadata": {},
   "outputs": [],
   "source": [
    "conv_model= model()"
   ]
  },
  {
   "cell_type": "code",
   "execution_count": 66,
   "metadata": {},
   "outputs": [
    {
     "name": "stdout",
     "output_type": "stream",
     "text": [
      "Model: \"model_5\"\n",
      "_________________________________________________________________\n",
      "Layer (type)                 Output Shape              Param #   \n",
      "=================================================================\n",
      "input_6 (InputLayer)         [(None, 28, 28, 1)]       0         \n",
      "_________________________________________________________________\n",
      "batch_normalization_30 (Batc (None, 28, 28, 1)         4         \n",
      "_________________________________________________________________\n",
      "conv2d_30 (Conv2D)           (None, 28, 28, 32)        320       \n",
      "_________________________________________________________________\n",
      "conv2d_31 (Conv2D)           (None, 28, 28, 32)        9248      \n",
      "_________________________________________________________________\n",
      "max_pooling2d_15 (MaxPooling (None, 14, 14, 32)        0         \n",
      "_________________________________________________________________\n",
      "batch_normalization_31 (Batc (None, 14, 14, 32)        128       \n",
      "_________________________________________________________________\n",
      "conv2d_32 (Conv2D)           (None, 14, 14, 64)        18496     \n",
      "_________________________________________________________________\n",
      "conv2d_33 (Conv2D)           (None, 14, 14, 64)        36928     \n",
      "_________________________________________________________________\n",
      "max_pooling2d_16 (MaxPooling (None, 7, 7, 64)          0         \n",
      "_________________________________________________________________\n",
      "batch_normalization_32 (Batc (None, 7, 7, 64)          256       \n",
      "_________________________________________________________________\n",
      "conv2d_34 (Conv2D)           (None, 7, 7, 128)         73856     \n",
      "_________________________________________________________________\n",
      "conv2d_35 (Conv2D)           (None, 7, 7, 128)         147584    \n",
      "_________________________________________________________________\n",
      "max_pooling2d_17 (MaxPooling (None, 3, 3, 128)         0         \n",
      "_________________________________________________________________\n",
      "batch_normalization_33 (Batc (None, 3, 3, 128)         512       \n",
      "_________________________________________________________________\n",
      "flatten_5 (Flatten)          (None, 1152)              0         \n",
      "_________________________________________________________________\n",
      "dropout_15 (Dropout)         (None, 1152)              0         \n",
      "_________________________________________________________________\n",
      "dense_15 (Dense)             (None, 64)                73792     \n",
      "_________________________________________________________________\n",
      "batch_normalization_34 (Batc (None, 64)                256       \n",
      "_________________________________________________________________\n",
      "dropout_16 (Dropout)         (None, 64)                0         \n",
      "_________________________________________________________________\n",
      "dense_16 (Dense)             (None, 64)                4160      \n",
      "_________________________________________________________________\n",
      "batch_normalization_35 (Batc (None, 64)                256       \n",
      "_________________________________________________________________\n",
      "dropout_17 (Dropout)         (None, 64)                0         \n",
      "_________________________________________________________________\n",
      "dense_17 (Dense)             (None, 10)                650       \n",
      "=================================================================\n",
      "Total params: 366,446\n",
      "Trainable params: 365,740\n",
      "Non-trainable params: 706\n",
      "_________________________________________________________________\n"
     ]
    }
   ],
   "source": [
    "conv_model.summary()"
   ]
  },
  {
   "cell_type": "code",
   "execution_count": 67,
   "metadata": {},
   "outputs": [],
   "source": [
    "train_datagen= keras.preprocessing.image.ImageDataGenerator(rescale=1./255.,rotation_range=0.20,\n",
    "                       height_shift_range=0.20,width_shift_range=0.20,zoom_range=0.20)\n",
    "train_generator = train_datagen.flow(x_train,y_train,batch_size=32)\n",
    "valid_datagen= keras.preprocessing.image.ImageDataGenerator(rescale=1./255.)\n",
    "valid_generator = train_datagen.flow(x_valid,y_valid,batch_size=32)"
   ]
  },
  {
   "cell_type": "code",
   "execution_count": 68,
   "metadata": {},
   "outputs": [],
   "source": [
    "# This function keeps the initial learning rate for the first ten epochs  \n",
    "# and decreases it exponentially after that.  \n",
    "def scheduler(epoch, lr):\n",
    "    if epoch < 10:\n",
    "        return lr\n",
    "    else:\n",
    "        return lr * np.math.exp(-0.1)"
   ]
  },
  {
   "cell_type": "code",
   "execution_count": 69,
   "metadata": {},
   "outputs": [
    {
     "name": "stdout",
     "output_type": "stream",
     "text": [
      "Train for 1050 steps, validate for 263 steps\n",
      "Epoch 1/50\n",
      "1050/1050 [==============================] - 34s 32ms/step - loss: 0.9206 - accuracy: 0.6964 - val_loss: 0.5306 - val_accuracy: 0.8480\n",
      "Epoch 2/50\n",
      "1050/1050 [==============================] - 31s 30ms/step - loss: 0.4351 - accuracy: 0.8667 - val_loss: 0.2668 - val_accuracy: 0.9179\n",
      "Epoch 3/50\n",
      "1050/1050 [==============================] - 31s 30ms/step - loss: 0.3475 - accuracy: 0.8956 - val_loss: 0.1794 - val_accuracy: 0.9448\n",
      "Epoch 4/50\n",
      "1050/1050 [==============================] - 31s 29ms/step - loss: 0.3085 - accuracy: 0.9077 - val_loss: 0.2064 - val_accuracy: 0.9340\n",
      "Epoch 5/50\n",
      "1050/1050 [==============================] - 31s 30ms/step - loss: 0.2790 - accuracy: 0.9181 - val_loss: 0.1342 - val_accuracy: 0.9575\n",
      "Epoch 6/50\n",
      "1050/1050 [==============================] - 32s 30ms/step - loss: 0.2593 - accuracy: 0.9243 - val_loss: 0.1619 - val_accuracy: 0.9489\n",
      "Epoch 7/50\n",
      "1050/1050 [==============================] - 31s 30ms/step - loss: 0.2462 - accuracy: 0.9282 - val_loss: 0.1430 - val_accuracy: 0.9565\n",
      "Epoch 8/50\n",
      "1050/1050 [==============================] - 31s 29ms/step - loss: 0.2278 - accuracy: 0.9330 - val_loss: 0.2489 - val_accuracy: 0.9288\n",
      "Epoch 9/50\n",
      "1050/1050 [==============================] - 31s 29ms/step - loss: 0.2171 - accuracy: 0.9385 - val_loss: 0.2402 - val_accuracy: 0.9256\n",
      "Epoch 10/50\n",
      "1050/1050 [==============================] - 32s 31ms/step - loss: 0.2091 - accuracy: 0.9388 - val_loss: 0.1049 - val_accuracy: 0.9686\n",
      "Epoch 11/50\n",
      "1050/1050 [==============================] - 32s 30ms/step - loss: 0.1835 - accuracy: 0.9460 - val_loss: 0.1647 - val_accuracy: 0.9487\n",
      "Epoch 12/50\n",
      "1050/1050 [==============================] - 32s 30ms/step - loss: 0.1725 - accuracy: 0.9504 - val_loss: 0.0834 - val_accuracy: 0.9719\n",
      "Epoch 13/50\n",
      "1050/1050 [==============================] - 32s 31ms/step - loss: 0.1629 - accuracy: 0.9531 - val_loss: 0.0698 - val_accuracy: 0.9785\n",
      "Epoch 14/50\n",
      "1050/1050 [==============================] - 32s 30ms/step - loss: 0.1543 - accuracy: 0.9567 - val_loss: 0.0927 - val_accuracy: 0.9729\n",
      "Epoch 15/50\n",
      "1050/1050 [==============================] - 31s 30ms/step - loss: 0.1410 - accuracy: 0.9604 - val_loss: 0.0694 - val_accuracy: 0.9794\n",
      "Epoch 16/50\n",
      "1050/1050 [==============================] - 32s 30ms/step - loss: 0.1401 - accuracy: 0.9604 - val_loss: 0.0695 - val_accuracy: 0.9787\n",
      "Epoch 17/50\n",
      "1050/1050 [==============================] - 32s 31ms/step - loss: 0.1288 - accuracy: 0.9639 - val_loss: 0.0618 - val_accuracy: 0.9819\n",
      "Epoch 18/50\n",
      "1050/1050 [==============================] - 31s 30ms/step - loss: 0.1240 - accuracy: 0.9655 - val_loss: 0.0507 - val_accuracy: 0.9842\n",
      "Epoch 19/50\n",
      "1050/1050 [==============================] - 31s 29ms/step - loss: 0.1163 - accuracy: 0.9674 - val_loss: 0.0520 - val_accuracy: 0.9835\n",
      "Epoch 20/50\n",
      "1050/1050 [==============================] - 31s 30ms/step - loss: 0.1095 - accuracy: 0.9679 - val_loss: 0.0482 - val_accuracy: 0.9855\n",
      "Epoch 21/50\n",
      "1050/1050 [==============================] - 32s 30ms/step - loss: 0.1071 - accuracy: 0.9700 - val_loss: 0.0588 - val_accuracy: 0.9829\n",
      "Epoch 22/50\n",
      "1050/1050 [==============================] - 30s 29ms/step - loss: 0.1027 - accuracy: 0.9708 - val_loss: 0.0400 - val_accuracy: 0.9874\n",
      "Epoch 23/50\n",
      "1050/1050 [==============================] - 30s 29ms/step - loss: 0.0978 - accuracy: 0.9726 - val_loss: 0.0427 - val_accuracy: 0.9867\n",
      "Epoch 24/50\n",
      "1050/1050 [==============================] - 31s 30ms/step - loss: 0.0978 - accuracy: 0.9730 - val_loss: 0.0375 - val_accuracy: 0.9882\n",
      "Epoch 25/50\n",
      "1050/1050 [==============================] - 32s 30ms/step - loss: 0.0935 - accuracy: 0.9735 - val_loss: 0.0371 - val_accuracy: 0.9875\n",
      "Epoch 26/50\n",
      "1050/1050 [==============================] - 31s 30ms/step - loss: 0.0937 - accuracy: 0.9748 - val_loss: 0.0406 - val_accuracy: 0.9873\n",
      "Epoch 27/50\n",
      "1050/1050 [==============================] - 31s 30ms/step - loss: 0.0914 - accuracy: 0.9740 - val_loss: 0.0388 - val_accuracy: 0.9886\n",
      "Epoch 28/50\n",
      "1050/1050 [==============================] - 31s 30ms/step - loss: 0.0858 - accuracy: 0.9754 - val_loss: 0.0370 - val_accuracy: 0.9887\n",
      "Epoch 29/50\n",
      "1050/1050 [==============================] - 32s 30ms/step - loss: 0.0846 - accuracy: 0.9757 - val_loss: 0.0418 - val_accuracy: 0.9874\n",
      "Epoch 30/50\n",
      "1050/1050 [==============================] - 32s 30ms/step - loss: 0.0802 - accuracy: 0.9764 - val_loss: 0.0319 - val_accuracy: 0.9907\n",
      "Epoch 31/50\n",
      "1050/1050 [==============================] - 32s 30ms/step - loss: 0.0808 - accuracy: 0.9773 - val_loss: 0.0342 - val_accuracy: 0.9901\n",
      "Epoch 32/50\n",
      "1050/1050 [==============================] - 31s 30ms/step - loss: 0.0806 - accuracy: 0.9780 - val_loss: 0.0332 - val_accuracy: 0.9896\n",
      "Epoch 33/50\n",
      "1050/1050 [==============================] - 31s 29ms/step - loss: 0.0755 - accuracy: 0.9779 - val_loss: 0.0329 - val_accuracy: 0.9893\n",
      "Epoch 34/50\n",
      "1050/1050 [==============================] - 32s 30ms/step - loss: 0.0736 - accuracy: 0.9788 - val_loss: 0.0296 - val_accuracy: 0.9904\n",
      "Epoch 35/50\n",
      "1050/1050 [==============================] - 32s 30ms/step - loss: 0.0771 - accuracy: 0.9787 - val_loss: 0.0337 - val_accuracy: 0.9907\n",
      "Epoch 36/50\n",
      "1050/1050 [==============================] - 32s 31ms/step - loss: 0.0715 - accuracy: 0.9796 - val_loss: 0.0304 - val_accuracy: 0.9906\n",
      "Epoch 37/50\n",
      "1050/1050 [==============================] - 31s 29ms/step - loss: 0.0749 - accuracy: 0.9798 - val_loss: 0.0295 - val_accuracy: 0.9907\n",
      "Epoch 38/50\n",
      "1050/1050 [==============================] - 32s 30ms/step - loss: 0.0742 - accuracy: 0.9783 - val_loss: 0.0313 - val_accuracy: 0.9902\n",
      "Epoch 39/50\n",
      "1050/1050 [==============================] - 32s 31ms/step - loss: 0.0736 - accuracy: 0.9785 - val_loss: 0.0336 - val_accuracy: 0.9893\n",
      "Epoch 40/50\n",
      "1050/1050 [==============================] - 31s 30ms/step - loss: 0.0716 - accuracy: 0.9801 - val_loss: 0.0297 - val_accuracy: 0.9904\n",
      "Epoch 41/50\n",
      "1050/1050 [==============================] - 32s 30ms/step - loss: 0.0710 - accuracy: 0.9789 - val_loss: 0.0241 - val_accuracy: 0.9919\n",
      "Epoch 42/50\n",
      "1050/1050 [==============================] - 32s 30ms/step - loss: 0.0729 - accuracy: 0.9796 - val_loss: 0.0294 - val_accuracy: 0.9910\n",
      "Epoch 43/50\n",
      "1050/1050 [==============================] - 31s 29ms/step - loss: 0.0674 - accuracy: 0.9799 - val_loss: 0.0296 - val_accuracy: 0.9913\n",
      "Epoch 44/50\n",
      "1050/1050 [==============================] - 30s 29ms/step - loss: 0.0698 - accuracy: 0.9803 - val_loss: 0.0269 - val_accuracy: 0.9919\n",
      "Epoch 45/50\n",
      "1050/1050 [==============================] - 31s 30ms/step - loss: 0.0688 - accuracy: 0.9802 - val_loss: 0.0261 - val_accuracy: 0.9910\n",
      "Epoch 46/50\n",
      "1050/1050 [==============================] - 31s 30ms/step - loss: 0.0660 - accuracy: 0.9808 - val_loss: 0.0296 - val_accuracy: 0.9913\n",
      "Epoch 47/50\n",
      "1050/1050 [==============================] - 32s 30ms/step - loss: 0.0732 - accuracy: 0.9793 - val_loss: 0.0327 - val_accuracy: 0.9898\n",
      "Epoch 48/50\n",
      "1050/1050 [==============================] - 32s 31ms/step - loss: 0.0673 - accuracy: 0.9813 - val_loss: 0.0253 - val_accuracy: 0.9924\n",
      "Epoch 49/50\n",
      "1050/1050 [==============================] - 31s 30ms/step - loss: 0.0719 - accuracy: 0.9806 - val_loss: 0.0308 - val_accuracy: 0.9901\n",
      "Epoch 50/50\n",
      "1050/1050 [==============================] - 32s 30ms/step - loss: 0.0680 - accuracy: 0.9810 - val_loss: 0.0278 - val_accuracy: 0.9914\n"
     ]
    },
    {
     "data": {
      "text/plain": [
       "<tensorflow.python.keras.callbacks.History at 0x7fdf7c19df28>"
      ]
     },
     "execution_count": 69,
     "metadata": {},
     "output_type": "execute_result"
    }
   ],
   "source": [
    "loss= keras.losses.CategoricalCrossentropy()\n",
    "optimizer=keras.optimizers.Adam(learning_rate=.01)\n",
    "callback = tf.keras.callbacks.LearningRateScheduler(scheduler)\n",
    "conv_model.compile(loss=loss,optimizer=optimizer,metrics=['accuracy'])\n",
    "conv_model.fit(train_generator,epochs=50,validation_data=valid_generator,callbacks=[callback])"
   ]
  },
  {
   "cell_type": "markdown",
   "metadata": {},
   "source": [
    "# submission"
   ]
  },
  {
   "cell_type": "markdown",
   "metadata": {},
   "source": [
    "## train on full data"
   ]
  },
  {
   "cell_type": "code",
   "execution_count": 86,
   "metadata": {},
   "outputs": [],
   "source": [
    "datagen= keras.preprocessing.image.ImageDataGenerator(rescale=1./255.,rotation_range=0.20,\n",
    "                       height_shift_range=0.20,width_shift_range=0.20,zoom_range=0.20)\n",
    "generator = train_datagen.flow(train_data,train_label,batch_size=128)"
   ]
  },
  {
   "cell_type": "code",
   "execution_count": 92,
   "metadata": {},
   "outputs": [],
   "source": [
    "# This function keeps the initial learning rate for the first ten epochs  \n",
    "# and decreases it exponentially after that.  \n",
    "def scheduler(epoch, lr):\n",
    "    if epoch < 10:\n",
    "        return lr\n",
    "    else:\n",
    "        return lr * np.math.exp(-0.1)"
   ]
  },
  {
   "cell_type": "code",
   "execution_count": 93,
   "metadata": {},
   "outputs": [
    {
     "data": {
      "text/plain": [
       "0.008143536762323635"
      ]
     },
     "execution_count": 93,
     "metadata": {},
     "output_type": "execute_result"
    }
   ],
   "source": [
    ".009* np.math.exp(-0.1)"
   ]
  },
  {
   "cell_type": "code",
   "execution_count": 94,
   "metadata": {},
   "outputs": [],
   "source": [
    "callback = tf.keras.callbacks.LearningRateScheduler(scheduler)"
   ]
  },
  {
   "cell_type": "code",
   "execution_count": 95,
   "metadata": {},
   "outputs": [],
   "source": [
    "conv_model = model()"
   ]
  },
  {
   "cell_type": "code",
   "execution_count": 96,
   "metadata": {},
   "outputs": [
    {
     "name": "stdout",
     "output_type": "stream",
     "text": [
      "Train for 329 steps\n",
      "Epoch 1/80\n",
      "329/329 [==============================] - 26s 78ms/step - loss: 0.9108 - accuracy: 0.6907\n",
      "Epoch 2/80\n",
      "329/329 [==============================] - 23s 71ms/step - loss: 0.4331 - accuracy: 0.8680\n",
      "Epoch 3/80\n",
      "329/329 [==============================] - 23s 70ms/step - loss: 0.3398 - accuracy: 0.8990\n",
      "Epoch 4/80\n",
      "329/329 [==============================] - 23s 70ms/step - loss: 0.2549 - accuracy: 0.9241\n",
      "Epoch 5/80\n",
      "329/329 [==============================] - 22s 67ms/step - loss: 0.2317 - accuracy: 0.9318\n",
      "Epoch 6/80\n",
      "329/329 [==============================] - 22s 68ms/step - loss: 0.2084 - accuracy: 0.9383\n",
      "Epoch 7/80\n",
      "329/329 [==============================] - 23s 69ms/step - loss: 0.1890 - accuracy: 0.9446\n",
      "Epoch 8/80\n",
      "329/329 [==============================] - 24s 72ms/step - loss: 0.1805 - accuracy: 0.9475\n",
      "Epoch 9/80\n",
      "329/329 [==============================] - 23s 69ms/step - loss: 0.1623 - accuracy: 0.9520\n",
      "Epoch 10/80\n",
      "329/329 [==============================] - 22s 67ms/step - loss: 0.1563 - accuracy: 0.9541\n",
      "Epoch 11/80\n",
      "329/329 [==============================] - 22s 68ms/step - loss: 0.1465 - accuracy: 0.9578\n",
      "Epoch 12/80\n",
      "329/329 [==============================] - 22s 67ms/step - loss: 0.1356 - accuracy: 0.9600\n",
      "Epoch 13/80\n",
      "329/329 [==============================] - 23s 70ms/step - loss: 0.1245 - accuracy: 0.9632\n",
      "Epoch 14/80\n",
      "329/329 [==============================] - 23s 71ms/step - loss: 0.1250 - accuracy: 0.9633\n",
      "Epoch 15/80\n",
      "329/329 [==============================] - 23s 70ms/step - loss: 0.1174 - accuracy: 0.9662\n",
      "Epoch 16/80\n",
      "329/329 [==============================] - 22s 66ms/step - loss: 0.1072 - accuracy: 0.9682\n",
      "Epoch 17/80\n",
      "329/329 [==============================] - 22s 68ms/step - loss: 0.1065 - accuracy: 0.9702\n",
      "Epoch 18/80\n",
      "329/329 [==============================] - 23s 69ms/step - loss: 0.1031 - accuracy: 0.9711\n",
      "Epoch 19/80\n",
      "329/329 [==============================] - 22s 68ms/step - loss: 0.0945 - accuracy: 0.9731\n",
      "Epoch 20/80\n",
      "329/329 [==============================] - 22s 68ms/step - loss: 0.0949 - accuracy: 0.9725\n",
      "Epoch 21/80\n",
      "329/329 [==============================] - 23s 69ms/step - loss: 0.0889 - accuracy: 0.9741\n",
      "Epoch 22/80\n",
      "329/329 [==============================] - 22s 68ms/step - loss: 0.0886 - accuracy: 0.9743\n",
      "Epoch 23/80\n",
      "329/329 [==============================] - 22s 67ms/step - loss: 0.0844 - accuracy: 0.9755\n",
      "Epoch 24/80\n",
      "329/329 [==============================] - 21s 65ms/step - loss: 0.0818 - accuracy: 0.9764\n",
      "Epoch 25/80\n",
      "329/329 [==============================] - 23s 69ms/step - loss: 0.0789 - accuracy: 0.9776\n",
      "Epoch 26/80\n",
      "329/329 [==============================] - 24s 72ms/step - loss: 0.0715 - accuracy: 0.9794\n",
      "Epoch 27/80\n",
      "329/329 [==============================] - 22s 68ms/step - loss: 0.0732 - accuracy: 0.9796\n",
      "Epoch 28/80\n",
      "329/329 [==============================] - 23s 70ms/step - loss: 0.0724 - accuracy: 0.9800\n",
      "Epoch 29/80\n",
      "329/329 [==============================] - 23s 71ms/step - loss: 0.0700 - accuracy: 0.9801\n",
      "Epoch 30/80\n",
      "329/329 [==============================] - 20s 62ms/step - loss: 0.0657 - accuracy: 0.9811\n",
      "Epoch 31/80\n",
      "329/329 [==============================] - 21s 65ms/step - loss: 0.0671 - accuracy: 0.9815\n",
      "Epoch 32/80\n",
      "329/329 [==============================] - 23s 70ms/step - loss: 0.0665 - accuracy: 0.9807\n",
      "Epoch 33/80\n",
      "329/329 [==============================] - 23s 69ms/step - loss: 0.0628 - accuracy: 0.9816\n",
      "Epoch 34/80\n",
      "329/329 [==============================] - 23s 69ms/step - loss: 0.0632 - accuracy: 0.9827\n",
      "Epoch 35/80\n",
      "329/329 [==============================] - 23s 71ms/step - loss: 0.0580 - accuracy: 0.9837\n",
      "Epoch 36/80\n",
      "329/329 [==============================] - 22s 66ms/step - loss: 0.0609 - accuracy: 0.9830\n",
      "Epoch 37/80\n",
      "329/329 [==============================] - 22s 68ms/step - loss: 0.0600 - accuracy: 0.9835\n",
      "Epoch 39/80\n",
      "329/329 [==============================] - 23s 69ms/step - loss: 0.0588 - accuracy: 0.9828\n",
      "Epoch 40/80\n",
      "329/329 [==============================] - 22s 67ms/step - loss: 0.0566 - accuracy: 0.9836\n",
      "Epoch 41/80\n",
      "329/329 [==============================] - 23s 69ms/step - loss: 0.0535 - accuracy: 0.9852\n",
      "Epoch 42/80\n",
      "329/329 [==============================] - 22s 68ms/step - loss: 0.0567 - accuracy: 0.9837\n",
      "Epoch 43/80\n",
      "329/329 [==============================] - 23s 70ms/step - loss: 0.0521 - accuracy: 0.9849\n",
      "Epoch 44/80\n",
      "329/329 [==============================] - 23s 70ms/step - loss: 0.0534 - accuracy: 0.9848\n",
      "Epoch 45/80\n",
      "329/329 [==============================] - 22s 68ms/step - loss: 0.0545 - accuracy: 0.9849\n",
      "Epoch 46/80\n",
      "329/329 [==============================] - 22s 67ms/step - loss: 0.0531 - accuracy: 0.9845\n",
      "Epoch 47/80\n",
      "329/329 [==============================] - 23s 70ms/step - loss: 0.0537 - accuracy: 0.9849\n",
      "Epoch 48/80\n",
      "329/329 [==============================] - 22s 68ms/step - loss: 0.0539 - accuracy: 0.9851\n",
      "Epoch 49/80\n",
      "329/329 [==============================] - 23s 69ms/step - loss: 0.0508 - accuracy: 0.9850\n",
      "Epoch 50/80\n",
      "329/329 [==============================] - 23s 69ms/step - loss: 0.0509 - accuracy: 0.9849\n",
      "Epoch 51/80\n",
      "329/329 [==============================] - 22s 67ms/step - loss: 0.0503 - accuracy: 0.9854\n",
      "Epoch 52/80\n",
      "329/329 [==============================] - 23s 70ms/step - loss: 0.0539 - accuracy: 0.9845\n",
      "Epoch 53/80\n",
      "329/329 [==============================] - 22s 67ms/step - loss: 0.0493 - accuracy: 0.9853\n",
      "Epoch 54/80\n",
      "329/329 [==============================] - 22s 67ms/step - loss: 0.0518 - accuracy: 0.9855\n",
      "Epoch 55/80\n",
      "329/329 [==============================] - 23s 71ms/step - loss: 0.0534 - accuracy: 0.9845\n",
      "Epoch 56/80\n",
      "329/329 [==============================] - 23s 70ms/step - loss: 0.0528 - accuracy: 0.9846\n",
      "Epoch 57/80\n",
      "329/329 [==============================] - 23s 69ms/step - loss: 0.0534 - accuracy: 0.9849\n",
      "Epoch 58/80\n",
      "329/329 [==============================] - 23s 70ms/step - loss: 0.0499 - accuracy: 0.9852\n",
      "Epoch 59/80\n",
      "329/329 [==============================] - 23s 68ms/step - loss: 0.0502 - accuracy: 0.9853\n",
      "Epoch 60/80\n",
      "329/329 [==============================] - 22s 68ms/step - loss: 0.0503 - accuracy: 0.9856\n",
      "Epoch 61/80\n",
      "329/329 [==============================] - 23s 70ms/step - loss: 0.0506 - accuracy: 0.9854\n",
      "Epoch 62/80\n",
      "329/329 [==============================] - 22s 68ms/step - loss: 0.0509 - accuracy: 0.9857\n",
      "Epoch 63/80\n",
      "329/329 [==============================] - 22s 68ms/step - loss: 0.0519 - accuracy: 0.9857\n",
      "Epoch 64/80\n",
      "329/329 [==============================] - 23s 69ms/step - loss: 0.0515 - accuracy: 0.9846\n",
      "Epoch 65/80\n",
      "329/329 [==============================] - 22s 68ms/step - loss: 0.0510 - accuracy: 0.9859\n",
      "Epoch 66/80\n",
      "329/329 [==============================] - 23s 70ms/step - loss: 0.0514 - accuracy: 0.9852\n",
      "Epoch 67/80\n",
      "329/329 [==============================] - 23s 69ms/step - loss: 0.0492 - accuracy: 0.9859\n",
      "Epoch 68/80\n",
      "329/329 [==============================] - 23s 69ms/step - loss: 0.0510 - accuracy: 0.9854\n",
      "Epoch 69/80\n",
      "329/329 [==============================] - 23s 69ms/step - loss: 0.0526 - accuracy: 0.9848\n",
      "Epoch 70/80\n",
      "329/329 [==============================] - 22s 66ms/step - loss: 0.0520 - accuracy: 0.9857\n",
      "Epoch 71/80\n",
      "329/329 [==============================] - 23s 69ms/step - loss: 0.0487 - accuracy: 0.9858\n",
      "Epoch 72/80\n",
      "329/329 [==============================] - 23s 69ms/step - loss: 0.0498 - accuracy: 0.9861\n",
      "Epoch 73/80\n",
      "329/329 [==============================] - 23s 70ms/step - loss: 0.0539 - accuracy: 0.9846\n",
      "Epoch 74/80\n",
      "329/329 [==============================] - 23s 69ms/step - loss: 0.0565 - accuracy: 0.9844\n",
      "Epoch 75/80\n",
      "329/329 [==============================] - 22s 67ms/step - loss: 0.0514 - accuracy: 0.9855\n",
      "Epoch 76/80\n",
      "329/329 [==============================] - 22s 68ms/step - loss: 0.0508 - accuracy: 0.9856\n",
      "Epoch 77/80\n",
      "329/329 [==============================] - 23s 69ms/step - loss: 0.0500 - accuracy: 0.9856\n",
      "Epoch 78/80\n",
      "329/329 [==============================] - 23s 71ms/step - loss: 0.0481 - accuracy: 0.9869\n",
      "Epoch 79/80\n",
      "329/329 [==============================] - 23s 70ms/step - loss: 0.0513 - accuracy: 0.9855\n",
      "Epoch 80/80\n",
      "329/329 [==============================] - 22s 68ms/step - loss: 0.0510 - accuracy: 0.9855\n"
     ]
    },
    {
     "data": {
      "text/plain": [
       "<tensorflow.python.keras.callbacks.History at 0x7fdf386c9518>"
      ]
     },
     "execution_count": 96,
     "metadata": {},
     "output_type": "execute_result"
    }
   ],
   "source": [
    "loss= keras.losses.CategoricalCrossentropy()\n",
    "optimizer=keras.optimizers.Adam(learning_rate=.01)\n",
    "callback = tf.keras.callbacks.LearningRateScheduler(scheduler)\n",
    "conv_model.compile(loss=loss,optimizer=optimizer,metrics=['accuracy'])\n",
    "conv_model.fit(generator,epochs=80,callbacks=[callback])"
   ]
  },
  {
   "cell_type": "code",
   "execution_count": 97,
   "metadata": {},
   "outputs": [
    {
     "name": "stdout",
     "output_type": "stream",
     "text": [
      "WARNING:tensorflow:From /usr/local/lib/python3.6/dist-packages/tensorflow_core/python/ops/resource_variable_ops.py:1781: calling BaseResourceVariable.__init__ (from tensorflow.python.ops.resource_variable_ops) with constraint is deprecated and will be removed in a future version.\n",
      "Instructions for updating:\n",
      "If using Keras pass *_constraint arguments to layers.\n",
      "INFO:tensorflow:Assets written to: conv_model/assets\n"
     ]
    }
   ],
   "source": [
    "conv_model.save('conv_model')"
   ]
  },
  {
   "cell_type": "code",
   "execution_count": 98,
   "metadata": {},
   "outputs": [],
   "source": [
    "conv_model.save_weights('conv_model_weights.h5')"
   ]
  },
  {
   "cell_type": "markdown",
   "metadata": {},
   "source": [
    "## predict on test data"
   ]
  },
  {
   "cell_type": "code",
   "execution_count": 144,
   "metadata": {},
   "outputs": [],
   "source": [
    "# test_datagen = keras.preprocessing.image.ImageDataGenerator(rescale=1./255.)\n",
    "# test_generator = test_datagen.flow(test_data)"
   ]
  },
  {
   "cell_type": "code",
   "execution_count": 17,
   "metadata": {},
   "outputs": [],
   "source": [
    "conv_model = load_model('conv_model')"
   ]
  },
  {
   "cell_type": "code",
   "execution_count": null,
   "metadata": {},
   "outputs": [],
   "source": [
    "y_prob=conv_model.predict(test_data/255.0)\n",
    "y_classes = np.argmax(y_prob,axis=-1)"
   ]
  },
  {
   "cell_type": "code",
   "execution_count": null,
   "metadata": {},
   "outputs": [],
   "source": [
    "y_prob[3]"
   ]
  },
  {
   "cell_type": "code",
   "execution_count": null,
   "metadata": {},
   "outputs": [],
   "source": [
    "y_classes[3]"
   ]
  },
  {
   "cell_type": "code",
   "execution_count": null,
   "metadata": {},
   "outputs": [],
   "source": [
    "sample_submission.head()"
   ]
  },
  {
   "cell_type": "code",
   "execution_count": null,
   "metadata": {},
   "outputs": [],
   "source": [
    "sample_submission['Label']=y_classes"
   ]
  },
  {
   "cell_type": "code",
   "execution_count": null,
   "metadata": {},
   "outputs": [],
   "source": [
    "sample_submission.info()"
   ]
  },
  {
   "cell_type": "code",
   "execution_count": null,
   "metadata": {},
   "outputs": [],
   "source": [
    "sample_submission.head()"
   ]
  },
  {
   "cell_type": "code",
   "execution_count": 151,
   "metadata": {},
   "outputs": [],
   "source": [
    "sample_submission.to_csv('submission.csv')"
   ]
  },
  {
   "cell_type": "code",
   "execution_count": 152,
   "metadata": {},
   "outputs": [],
   "source": [
    "x=next(test_generator)"
   ]
  },
  {
   "cell_type": "code",
   "execution_count": 153,
   "metadata": {},
   "outputs": [],
   "source": [
    "import matplotlib.pyplot as plt"
   ]
  },
  {
   "cell_type": "code",
   "execution_count": 154,
   "metadata": {},
   "outputs": [
    {
     "data": {
      "text/plain": [
       "(28, 28, 1)"
      ]
     },
     "execution_count": 154,
     "metadata": {},
     "output_type": "execute_result"
    }
   ],
   "source": [
    "test_data[0].shape"
   ]
  },
  {
   "cell_type": "code",
   "execution_count": 155,
   "metadata": {},
   "outputs": [
    {
     "data": {
      "image/png": "[encoded data removed]",
      "text/plain": [
       "<Figure size 432x288 with 1 Axes>"
      ]
     },
     "metadata": {
      "needs_background": "light"
     },
     "output_type": "display_data"
    }
   ],
   "source": [
    "plt.imshow(test_data[3].reshape(28,28), cmap='gray')\n",
    "plt.show()"
   ]
  },
  {
   "cell_type": "code",
   "execution_count": null,
   "metadata": {},
   "outputs": [],
   "source": []
  }
 ],
 "metadata": {
  "kernelspec": {
   "display_name": "Python 3",
   "language": "python",
   "name": "python3"
  },
  "language_info": {
   "codemirror_mode": {
    "name": "ipython",
    "version": 3
   },
   "file_extension": ".py",
   "mimetype": "text/x-python",
   "name": "python",
   "nbconvert_exporter": "python",
   "pygments_lexer": "ipython3",
   "version": "3.7.7"
  }
 },
 "nbformat": 4,
 "nbformat_minor": 4
}
